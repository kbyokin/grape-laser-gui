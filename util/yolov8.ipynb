{
 "cells": [
  {
   "cell_type": "code",
   "execution_count": 2,
   "metadata": {},
   "outputs": [],
   "source": [
    "import cv2\n",
    "import torch"
   ]
  },
  {
   "cell_type": "code",
   "execution_count": 3,
   "metadata": {},
   "outputs": [],
   "source": [
    "from ultralytics import YOLO"
   ]
  },
  {
   "cell_type": "code",
   "execution_count": 4,
   "metadata": {},
   "outputs": [],
   "source": [
    "model = YOLO('../models/yolov8_best.pt')"
   ]
  },
  {
   "cell_type": "code",
   "execution_count": 5,
   "metadata": {},
   "outputs": [
    {
     "name": "stdout",
     "output_type": "stream",
     "text": [
      "\n",
      "image 1/1 /Users/kb/Developer/laser_control_gui/util/../test.jpg: 384x640 1 bunch, 31 grapes, 42.7ms\n",
      "Speed: 1.8ms preprocess, 42.7ms inference, 1381.0ms postprocess per image at shape (1, 3, 384, 640)\n"
     ]
    }
   ],
   "source": [
    "results = model('../test.jpg')"
   ]
  },
  {
   "cell_type": "code",
   "execution_count": 29,
   "metadata": {},
   "outputs": [],
   "source": [
    "pred = results[0].boxes.data.cpu().numpy()\n",
    "classes = results[0].boxes.data.cpu().numpy()[:, 5]"
   ]
  },
  {
   "cell_type": "code",
   "execution_count": 31,
   "metadata": {},
   "outputs": [],
   "source": [
    "bunch_indices = classes == 0\n",
    "berry_indices = classes == 1"
   ]
  },
  {
   "cell_type": "code",
   "execution_count": 34,
   "metadata": {},
   "outputs": [],
   "source": [
    "bunch_boxes = pred[bunch_indices][:, :4]\n",
    "berry_boxes = pred[berry_indices][:, :4]"
   ]
  },
  {
   "cell_type": "code",
   "execution_count": 35,
   "metadata": {},
   "outputs": [
    {
     "data": {
      "text/plain": [
       "(array([[     545.39,      106.08,      751.24,      599.86]], dtype=float32),\n",
       " array([[     652.62,      110.97,       709.2,      177.07],\n",
       "        [     577.43,       162.1,      637.83,      235.42],\n",
       "        [     681.92,      465.92,         746,      531.61],\n",
       "        [     572.53,      274.36,      629.06,      343.01],\n",
       "        [     593.68,       463.3,      653.24,      534.46],\n",
       "        [     674.37,      328.77,      725.43,      388.26],\n",
       "        [     664.12,      370.02,      718.17,      445.22],\n",
       "        [     599.73,      529.23,      655.58,      596.33],\n",
       "        [     629.24,      185.14,      680.75,      253.35],\n",
       "        [     552.24,      406.58,      611.09,      464.89],\n",
       "        [     680.36,      253.54,      749.49,      315.23],\n",
       "        [     574.04,      356.15,      629.45,      405.23],\n",
       "        [     686.52,      525.56,      722.46,      560.47],\n",
       "        [     646.42,      477.33,      694.51,      554.96],\n",
       "        [     548.08,      183.51,      585.97,      237.91],\n",
       "        [     681.99,      179.76,      744.12,      245.41],\n",
       "        [     575.43,      515.77,      606.52,      556.54],\n",
       "        [     557.09,      116.47,      629.44,      183.28],\n",
       "        [      556.8,      263.14,       601.8,      303.19],\n",
       "        [     557.12,      300.43,      589.06,      346.68],\n",
       "        [     704.77,      399.94,       734.6,      449.77],\n",
       "        [      694.9,      313.61,      730.55,      343.41],\n",
       "        [     565.77,      445.11,       623.6,       518.3],\n",
       "        [     631.81,       553.3,      668.88,      598.79],\n",
       "        [     565.59,      454.86,      607.36,      516.43],\n",
       "        [     683.66,      234.46,      736.54,      254.74],\n",
       "        [     679.86,      239.59,      727.06,      270.68],\n",
       "        [     698.27,      231.51,      736.62,      250.79],\n",
       "        [     607.08,      262.36,      637.27,      300.09],\n",
       "        [     556.58,      117.39,      594.45,         183],\n",
       "        [     682.05,      245.03,      722.31,      265.67]], dtype=float32))"
      ]
     },
     "execution_count": 35,
     "metadata": {},
     "output_type": "execute_result"
    }
   ],
   "source": [
    "bunch_boxes, berry_boxes"
   ]
  },
  {
   "cell_type": "code",
   "execution_count": null,
   "metadata": {},
   "outputs": [],
   "source": []
  }
 ],
 "metadata": {
  "kernelspec": {
   "display_name": "yolov5",
   "language": "python",
   "name": "python3"
  },
  "language_info": {
   "codemirror_mode": {
    "name": "ipython",
    "version": 3
   },
   "file_extension": ".py",
   "mimetype": "text/x-python",
   "name": "python",
   "nbconvert_exporter": "python",
   "pygments_lexer": "ipython3",
   "version": "3.9.19"
  }
 },
 "nbformat": 4,
 "nbformat_minor": 2
}
